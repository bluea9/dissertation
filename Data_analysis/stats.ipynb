{
 "cells": [
  {
   "cell_type": "markdown",
   "metadata": {},
   "source": [
    "Code to perform Kruskal-Wallis followed by Dunn's test."
   ]
  },
  {
   "cell_type": "code",
   "execution_count": null,
   "metadata": {},
   "outputs": [],
   "source": [
    "# Note: This code generated predominantly by AI\n",
    "import pandas as pd\n",
    "from scipy.stats import kruskal\n",
    "import scikit_posthocs as sp\n",
    "\n",
    "df = pd.read_csv('/path/to/energy/scores/SASA/csvfile')\n",
    "\n",
    "kruskal_test = kruskal(*[df[col] for col in df.columns])\n",
    "print(\"Kruskal-Wallis H-test result:\", kruskal_test)\n",
    "\n",
    "if kruskal_test.pvalue < 0.05:\n",
    "    df_long = df.melt(var_name='group', value_name='value')\n",
    "    dunn_test = sp.posthoc_dunn(df_long, val_col='value', group_col='group', p_adjust='bonferroni')\n",
    "    print(\"Dunn's test results (pairwise comparisons):\")\n",
    "    print(dunn_test)\n",
    "    dunn_df = pd.DataFrame(dunn_test)\n",
    "    dunn_df.to_csv('/home/MSC/Results/Stats/dunn_test_results.csv', index=True)"
   ]
  }
 ],
 "metadata": {
  "language_info": {
   "name": "python"
  }
 },
 "nbformat": 4,
 "nbformat_minor": 2
}
