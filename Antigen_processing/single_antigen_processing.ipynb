{
 "cells": [
  {
   "cell_type": "markdown",
   "metadata": {},
   "source": [
    "Scrip to process an antigen for docking with Haddock. The specified chain is extracted from the PDB file and formatted for docking. "
   ]
  },
  {
   "cell_type": "code",
   "execution_count": null,
   "metadata": {},
   "outputs": [],
   "source": [
    "import os, subprocess\n",
    "\n",
    "# Tools\n",
    "pdbtools = os.path.expanduser('~/software/pdb-tools/pdbtools')\n",
    "\n",
    "antigen_file = os.path.expanduser('~/home/files/antigen.pdb')\n",
    "output_dir = os.path.expanduser('~/home/files/antigen/ready/')\n",
    "\n",
    "antigen = os.path.basename(antigen_file)[:4]\n",
    "os.chdir(output_dir)\n",
    "# Select antiody chain\n",
    "select_chain = 'python ' + pdbtools + '/pdb_selchain.py -G ' + antigen_file + ' | '\n",
    "# Rename chain\n",
    "rename = pdbtools + '/pdb_chain.py -B | '\n",
    "# Renumber residues\n",
    "renum = pdbtools + '/pdb_reres.py | ' \n",
    "# Keep ATOM lines only\n",
    "atom = \" grep '^ATOM' | \"\n",
    "# Add TER and END\n",
    "tidy = pdbtools + '/pdb_tidy.py > '\n",
    "file_name = antigen.upper() + '-ag-HADDOCK.pdb'\n",
    "try: \n",
    "    command = select_chain + rename + renum + atom + tidy + file_name\n",
    "    subprocess.run(command, shell=True)\n",
    "except:\n",
    "    print(f'Antigen {antigen} could not be processed.')"
   ]
  }
 ],
 "metadata": {
  "kernelspec": {
   "display_name": "general_env",
   "language": "python",
   "name": "python3"
  },
  "language_info": {
   "name": "python",
   "version": "3.12.2"
  }
 },
 "nbformat": 4,
 "nbformat_minor": 2
}
